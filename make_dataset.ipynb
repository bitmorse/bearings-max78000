{
 "cells": [
  {
   "cell_type": "markdown",
   "metadata": {},
   "source": [
    "![normalization](https://www.analog.com/-/media/analog/en/app-note-images/data-loader-design-for-max78000-model-training/7600fig02.jpg?imgver=2)"
   ]
  },
  {
   "cell_type": "code",
   "execution_count": 2,
   "metadata": {},
   "outputs": [
    {
     "name": "stdout",
     "output_type": "stream",
     "text": [
      "Wavelib path: /home/sam/Repositories/tinyml/bearings-max78000/firmware/synthed_net/bearingnet/cwt_verification/../../../../../wavelib/python/ \n",
      "Dataset already downloaded\n"
     ]
    }
   ],
   "source": [
    "import os\n",
    "import sys\n",
    "import numpy as np\n",
    "import pandas as pd\n",
    "import matplotlib.pyplot as plt\n",
    "import torch\n",
    "import scipy\n",
    "from firmware.synthed_net.bearingnet.cwt_verification.utils import *\n",
    "\n",
    "DATASET_NAME = \"ims_bearings\"\n",
    "DATASET_URL = \"https://data.nasa.gov/download/brfb-gzcv/application/zip\"\n",
    "TEMP_PATH = os.path.expanduser('~/Downloads') + \"/dataset/\"\n",
    "\n",
    "\n",
    "# Download the dataset to temp\n",
    "os.system(\"mkdir -p \" + TEMP_PATH)\n",
    "\n",
    "#check if exists first\n",
    "ZIPPED = TEMP_PATH + DATASET_NAME + \".zip\"\n",
    "if os.path.exists(ZIPPED):\n",
    "    print(\"Dataset already downloaded\")\n",
    "else:\n",
    "    #unzip it inside its own folder\n",
    "    os.system(\"wget -q -O \" + ZIPPED + \" \" + DATASET_URL)\n",
    "    os.system(\"unzip \" + ZIPPED + \" -d \" + TEMP_PATH + DATASET_NAME)\n"
   ]
  },
  {
   "cell_type": "code",
   "execution_count": 3,
   "metadata": {},
   "outputs": [],
   "source": [
    "assert get_image(np.ones(SAMPLE_LEN)).shape == (INTERP_SIZE, INTERP_SIZE), \"Image shape is wrong\""
   ]
  },
  {
   "cell_type": "code",
   "execution_count": 4,
   "metadata": {},
   "outputs": [
    {
     "name": "stdout",
     "output_type": "stream",
     "text": [
      "1\n",
      "1st_test.rar\n",
      "2\n",
      "2nd_test.rar\n",
      "3\n",
      "3rd_test.rar\n",
      "exp1_b3_ch5_all_data.txt\n",
      "exp1_b3_ch5_first100k.txt\n",
      "exp1_b3_ch5_last100k.txt\n",
      "ims_bearings_all_exp1_b3_input_windows_from_averaging_30_windows.npy\n",
      "ims_bearings_all_exp1_b3_labels.pt\n",
      "ims_bearings_all_exp1_b3_spectrograms.pt\n",
      "ims_bearings_all_exp2_b3_input_windows_from_averaging_30_windows.npy\n",
      "ims_bearings_all_exp2_b3_labels.pt\n",
      "ims_bearings_all_exp2_b3_spectrograms.pt\n",
      "ims_bearings_all_exp3_b3_input_windows_from_averaging_30_windows.npy\n",
      "ims_bearings_all_exp3_b3_labels.pt\n",
      "ims_bearings_all_exp3_b3_spectrograms.pt\n",
      "ims_bearings_test_exp1_b3_input_windows_from_averaging_30_windows.npy\n",
      "ims_bearings_test_exp1_b3_labels.pt\n",
      "ims_bearings_test_exp1_b3_spectrograms.pt\n",
      "ims_bearings_train_exp1_b3_input_windows_from_averaging_30_windows.npy\n",
      "ims_bearings_train_exp1_b3_labels.pt\n",
      "ims_bearings_train_exp1_b3_spectrograms.pt\n",
      "input_windows_from_averaging_30_windows.npy\n",
      "Readme Document for IMS Bearing Data.pdf\n"
     ]
    }
   ],
   "source": [
    "IMS_PATH = TEMP_PATH + DATASET_NAME + \"/IMS/\"\n",
    "os.chdir(IMS_PATH)\n",
    "os.system(\"ls\")\n",
    "\n",
    "#check if unrar exists\n",
    "if not os.path.exists(\"/usr/bin/unrar\"):\n",
    "    print(\"unrar not installed\")\n",
    "    sys.exit(1)\n",
    "\n",
    "if not os.path.exists(IMS_PATH + \"1/\"):\n",
    "    os.system(\"mkdir -p \" + IMS_PATH + \"1/\")\n",
    "    os.system(\"mkdir -p \" + IMS_PATH + \"2/\")\n",
    "    os.system(\"mkdir -p \" + IMS_PATH + \"3/\")\n",
    "\n",
    "    os.system(\"unrar e \" + TEMP_PATH + DATASET_NAME + \"/IMS/1st_test.rar 1/\")\n",
    "    os.system(\"unrar e \" + TEMP_PATH + DATASET_NAME + \"/IMS/2nd_test.rar 2/\")\n",
    "    os.system(\"unrar e \" + TEMP_PATH + DATASET_NAME + \"/IMS/3rd_test.rar 3/\")"
   ]
  },
  {
   "cell_type": "code",
   "execution_count": 5,
   "metadata": {},
   "outputs": [],
   "source": [
    "def downsample_nparray(data, factor=2):\n",
    "    \"\"\"\n",
    "    Downsamples a numpy array by a given factor.\n",
    "\n",
    "    Parameters\n",
    "    ----------\n",
    "    data : array_like\n",
    "        Input data array.\n",
    "    factor : int\n",
    "        Factor by which to downsample the data.\n",
    "\n",
    "    Returns\n",
    "    -------\n",
    "    downsampled_data : array_like\n",
    "        Downsampled data array.\n",
    "    \"\"\"\n",
    "    downsampled_data = data[::factor]\n",
    "    \n",
    "    #normalise \n",
    "    downsampled_data = downsampled_data - np.mean(downsampled_data)\n",
    "    downsampled_data = downsampled_data / np.std(downsampled_data)\n",
    "    \n",
    "    return downsampled_data\n",
    "    \n",
    "\n",
    "def create_windows(data, window_length=128, overlap_length=32, window_type='rectangular'):\n",
    "    \"\"\"\n",
    "    Creates a list of windows from a numpy array.\n",
    "\n",
    "    Parameters\n",
    "    ----------\n",
    "    data : array_like\n",
    "        Input data array.\n",
    "    window_length : int\n",
    "        Length of the window.\n",
    "    overlap_length : int\n",
    "        Length of the overlap between windows.\n",
    "\n",
    "    Returns\n",
    "    -------\n",
    "    windows : list\n",
    "        List of windows.\n",
    "    \"\"\"\n",
    "    windows = []\n",
    "    for i in range(0, len(data) - window_length, window_length-overlap_length):\n",
    "        if window_type == 'hamming':\n",
    "            coeffs = np.hamming(window_length)\n",
    "        else:\n",
    "            coeffs = np.ones(window_length)\n",
    "            \n",
    "        windows.append(coeffs * data[i:i + window_length].flatten())\n",
    "    return np.array(windows)\n",
    "\n",
    "\n",
    "os.environ['SSQ_GPU'] = '1'\n",
    "from ssqueezepy import ssq_cwt, ssq_stft, cwt, wavelets\n",
    "from ssqueezepy.experimental import scale_to_freq\n",
    "\n",
    "def cwt_features(window):\n",
    "    #FEATURIZE START\n",
    "    #downsample window\n",
    "    window = downsample_nparray(window, factor=2)\n",
    "    \n",
    "    cwt_output = wl.cwt(window, MORLET_PARAM, N, J)\n",
    "    \n",
    "    #w =('morlet', {'mu': 5})\n",
    "    #_, Wx, *_ = ssq_cwt(window, wavelet=w, scales='log-piecewise', nv=16, maprange='energy', gamma=0)\n",
    "        \n",
    "    #detach tensors from GPU and convert to numpy\n",
    "    #Wx = np.abs(Wx.cpu().numpy())\n",
    "    \n",
    "    #downsample Tx to 64x64\n",
    "    #Wx = scipy.signal.resample(Wx, 64, axis=0)\n",
    "    #Wx = scipy.signal.resample(Wx, 64, axis=1)\n",
    "    \n",
    "    #min max normalisation\n",
    "    #features = (Wx - np.min(Wx)) / (np.max(Wx) - np.min(Wx))\n",
    "    ##FEATURIZE END\n",
    "    \n",
    "    return cwt_output\n",
    "    \n",
    "\n",
    "def convert_nasa_experiments_to_numpy(ims_path=IMS_PATH, limit=1e10):\n",
    "    experiment_files = {\"1\": os.listdir(ims_path + \"1/\"), \"2\": os.listdir(ims_path + \"2/\"), \"3\": os.listdir(ims_path + \"3/\")}\n",
    "    experiments_data = {\"1\": {\"bearing3_values\":[],\"bearing3_keys\":[]} , \"2\": {\"bearing3_values\":[],\"bearing3_keys\":[]}, \"3\": {\"bearing3_values\":[],\"bearing3_keys\":[]}}\n",
    "    \n",
    "    #sort experiment files by name\n",
    "    for experiment in experiment_files:\n",
    "        experiment_files[experiment] = sorted(experiment_files[experiment])\n",
    "        \n",
    "    \n",
    "    for experiment in experiment_files:\n",
    "        i=0\n",
    "        for file in experiment_files[experiment]:\n",
    "            #print(\"Converting exp %s file %s\" % (experiment, file))\n",
    "            #load the data in the file\n",
    "            bearing3_channel = 4 if experiment == \"1\" else 2\n",
    "            \n",
    "            data = np.loadtxt(ims_path + experiment + \"/\" + file)\n",
    "            vals = data[:,bearing3_channel]\n",
    "            \n",
    "            experiments_data[experiment]['bearing3_values'].append(vals)\n",
    "            experiments_data[experiment]['bearing3_keys'].append(file)\n",
    "            i+=1\n",
    "            \n",
    "            if i > limit:\n",
    "                break\n",
    "        \n",
    "    print(\"Converting NASA IMS dataset to spectrograms\")\n",
    "    return experiments_data,experiment_files"
   ]
  },
  {
   "cell_type": "code",
   "execution_count": 6,
   "metadata": {},
   "outputs": [
    {
     "name": "stdout",
     "output_type": "stream",
     "text": [
      "Converting NASA IMS dataset to spectrograms\n"
     ]
    }
   ],
   "source": [
    "experiments_data,experiment_files = convert_nasa_experiments_to_numpy()"
   ]
  },
  {
   "cell_type": "code",
   "execution_count": 39,
   "metadata": {},
   "outputs": [
    {
     "ename": "",
     "evalue": "",
     "output_type": "error",
     "traceback": [
      "\u001b[1;31mThe Kernel crashed while executing code in the the current cell or a previous cell. Please review the code in the cell(s) to identify a possible cause of the failure. Click <a href='https://aka.ms/vscodeJupyterKernelCrash'>here</a> for more info. View Jupyter <a href='command:jupyter.viewOutput'>log</a> for further details."
     ]
    }
   ],
   "source": [
    "#sanity check\n",
    "all_data = np.concatenate(experiments_data['1']['bearing3_values'])\n",
    "xaxis_labels = experiment_files['1']\n",
    "ds_factor = 100\n",
    "xaxis_labels = [xaxis_labels[i] for i in range(0, len(xaxis_labels), ds_factor)] #downsample xaxis labels\n",
    "\n",
    "#plot windows with xaxis labels\n",
    "plt.figure(figsize=(20,5))\n",
    "plt.plot(all_data)\n",
    "\n",
    "#plot rms of windows of 200 samples all data\n",
    "#make windows of 200 samples of all data\n",
    "windows = create_windows(all_data, window_length=20480, overlap_length=0)\n",
    "rms = np.sqrt(np.mean(windows**2, axis=1))\n",
    "rms = rms - np.mean(rms)\n",
    "rms = rms / np.std(rms)\n",
    "#upsample back to length of all data\n",
    "rms = np.repeat(rms, 20480)\n",
    "\n",
    "plt.plot(rms, color='red')\n",
    "\n",
    "#1 element of xaxis_labels for every 20480 samples\n",
    "#add xaxis labels\n",
    "\n",
    "plt.xticks(np.arange(0, len(all_data), 40), xaxis_labels, rotation=45)\n",
    "#minor ticks\n",
    "plt.minorticks_on()\n",
    "\n",
    "plt.ylabel(\"RMS per file (red) \\n raw accelerometer data (blue)\")\n",
    "plt.ylim(-2,2)\n",
    "#add grid\n",
    "plt.grid()\n",
    "plt.show()"
   ]
  },
  {
   "cell_type": "code",
   "execution_count": null,
   "metadata": {},
   "outputs": [],
   "source": []
  },
  {
   "cell_type": "code",
   "execution_count": 8,
   "metadata": {},
   "outputs": [],
   "source": [
    "np.savetxt(\"exp1_b3_ch5_first100k.txt\", all_data[:100000])\n",
    "np.savetxt(\"exp1_b3_ch5_last100k.txt\", all_data[-100000:])"
   ]
  },
  {
   "cell_type": "markdown",
   "metadata": {},
   "source": [
    "### bearing 3 failure labels\n",
    "\n",
    "from: https://github.com/Miltos-90/Failure_Classification_of_Bearings?tab=readme-ov-file\n",
    "\n",
    "\n",
    "#### Bearing 3\n",
    "* early: 2003.10.22.12.06.24 - 2003.11.01.21.41.44\n",
    "* normal: 2003.11.01.21.51.44 - 2003.11.22.09.16.56\n",
    "* suspect: 2003.11.22.09.26.56 - 2003.11.25.10.47.32\n",
    "* Inner race failure: 2003.11.25.10.57.32 - 2003.11.25.23.39.56"
   ]
  },
  {
   "cell_type": "code",
   "execution_count": 9,
   "metadata": {},
   "outputs": [
    {
     "name": "stdout",
     "output_type": "stream",
     "text": [
      "Early start: 0\n",
      "Early end: 498\n",
      "Normal start: 499, normal end: 1789\n",
      "My normal end: 999\n",
      "Start of failure relative to suspect: 330\n"
     ]
    }
   ],
   "source": [
    "early_start = experiment_files['1'].index('2003.10.22.12.06.24')\n",
    "early_end = experiment_files['1'].index('2003.11.01.21.41.44')\n",
    "normal_start = experiment_files['1'].index('2003.11.01.21.51.44')\n",
    "real_normal_end = experiment_files['1'].index('2003.11.22.09.16.56')\n",
    "\n",
    "my_normal_end = normal_start + 500\n",
    "\n",
    "start_of_failure_relative_to_suspect = experiment_files['1'].index('2003.11.25.10.57.32') -experiment_files['1'].index('2003.11.22.09.26.56') \n",
    "\n",
    "print(\"Early start: %s\" % early_start)\n",
    "print(\"Early end: %s\" % early_end)\n",
    "print(\"Normal start: %s, normal end: %s\" % (normal_start, real_normal_end))\n",
    "print(\"My normal end: %s\" % my_normal_end)\n",
    "print(\"Start of failure relative to suspect: %s\" % start_of_failure_relative_to_suspect)"
   ]
  },
  {
   "cell_type": "code",
   "execution_count": 10,
   "metadata": {},
   "outputs": [
    {
     "name": "stdout",
     "output_type": "stream",
     "text": [
      "files: 1290\n"
     ]
    },
    {
     "name": "stdout",
     "output_type": "stream",
     "text": [
      "all_training_sample_spectrograms.shape: (5160, 50, 50)\n",
      "all_training_labels.shape: (5160,)\n",
      "startfile: 2003.11.25.10.57.32\n",
      "endfile: 2003.11.25.23.39.56\n",
      "files: 35\n",
      "all_training_sample_spectrograms.shape: (140, 50, 50)\n",
      "all_training_labels.shape: (140,)\n"
     ]
    },
    {
     "data": {
      "image/png": "[encoded data removed]",
      "text/plain": [
       "<Figure size 640x480 with 1 Axes>"
      ]
     },
     "metadata": {},
     "output_type": "display_data"
    },
    {
     "data": {
      "image/png": "[encoded data removed]",
      "text/plain": [
       "<Figure size 640x480 with 1 Axes>"
      ]
     },
     "metadata": {},
     "output_type": "display_data"
    },
    {
     "data": {
      "image/png": "[encoded data removed]",
      "text/plain": [
       "<Figure size 640x480 with 1 Axes>"
      ]
     },
     "metadata": {},
     "output_type": "display_data"
    },
    {
     "data": {
      "image/png": "[encoded data removed]",
      "text/plain": [
       "<Figure size 640x480 with 1 Axes>"
      ]
     },
     "metadata": {},
     "output_type": "display_data"
    }
   ],
   "source": [
    "def create_torch_nasa_spectrograms(experiments_data, experiment_files, N=SAMPLE_LEN, wins_to_avg=30, name=\"train\", startfile = \"2003.11.01.21.51.44\", endfile= \"2003.11.22.09.16.56\", bearing=3, experiment=\"1\", save=False, plot=False):\n",
    "\n",
    "    if startfile.__class__ == str:\n",
    "        print(\"startfile: %s\" % startfile)\n",
    "        print(\"endfile: %s\" % endfile)\n",
    "        index_start = experiments_data[experiment]['bearing%s_keys'%bearing].index(startfile)\n",
    "        index_end = experiments_data[experiment]['bearing%s_keys'%bearing].index(endfile)\n",
    "    else:\n",
    "        index_start = startfile\n",
    "        index_end = endfile\n",
    "\n",
    "    training_files = experiment_files[experiment][index_start:index_end]\n",
    "    training_data = experiments_data[experiment]['bearing%s_values'%bearing][index_start:index_end]\n",
    "    training_data = np.stack(training_data) #each row is 1 second of data, taken every 10 minutes\n",
    "    \n",
    "    print(\"files: %s\" % len(training_files))\n",
    "\n",
    "    #generate spectrograms\n",
    "    all_training_sample_spectrograms = []\n",
    "    all_training_labels = []\n",
    "    all_training_avg_windows = []\n",
    "    for i in range(0, len(training_data)):\n",
    "        #decimate the data\n",
    "        training_sample_windows = create_windows(training_data[i], window_type='rectangular', window_length=N, overlap_length=0)\n",
    "        \n",
    "        \n",
    "        for offset in range(0, len(training_sample_windows), wins_to_avg):\n",
    "            avg_window = np.mean(training_sample_windows[offset:offset+wins_to_avg], axis=0)\n",
    "            all_training_avg_windows.append(avg_window)\n",
    "            \n",
    "            avg_window_image = get_image(avg_window)\n",
    "            \n",
    "            #convert to float32\n",
    "            avg_window_image = avg_window_image.astype(np.float32)\n",
    "            \n",
    "            #if ther reference value is well chosen, the data needs to be normalised anymore for training\n",
    "            # the data will be between 0 and 1\n",
    "            #therefore no need to normalise\n",
    "            \n",
    "            all_training_sample_spectrograms.append(avg_window_image)\n",
    "            all_training_labels.append(training_files[i])\n",
    "            \n",
    "    all_training_sample_spectrograms = np.array(all_training_sample_spectrograms)\n",
    "    all_training_avg_windows = np.array(all_training_avg_windows)\n",
    "    \n",
    "    all_training_labels = np.array(all_training_labels)\n",
    "    \n",
    "    print(\"all_training_sample_spectrograms.shape: %s\" % str(all_training_sample_spectrograms.shape))\n",
    "    print(\"all_training_labels.shape: %s\" % str(all_training_labels.shape))\n",
    "    \n",
    "    if save:\n",
    "        #save the inpute WINDOWS for the on device demo\n",
    "        np.save('%s_%s_exp%s_b%s_input_windows_from_averaging_30_windows'% (DATASET_NAME,name,experiment,bearing), all_training_avg_windows)\n",
    "        \n",
    "        print(\"we have %s normal training samples of %s x %s spectrograms\" % (all_training_sample_spectrograms.shape[0], all_training_sample_spectrograms.shape[1], all_training_sample_spectrograms.shape[2]))\n",
    "        #save the dataset\n",
    "        torch.save(all_training_sample_spectrograms, \"%s_%s_exp%s_b%s_spectrograms.pt\" % (DATASET_NAME,name,experiment,bearing))\n",
    "        torch.save(all_training_labels, \"%s_%s_exp%s_b%s_labels.pt\" % (DATASET_NAME,name,experiment,bearing))\n",
    "        os.system(\"ls\")\n",
    "        \n",
    "            \n",
    "    return all_training_sample_spectrograms\n",
    "\n",
    "train = create_torch_nasa_spectrograms(experiments_data, experiment_files, name=\"train\", startfile = normal_start, endfile= real_normal_end, bearing=3, experiment=\"1\", save=False, plot=True)\n",
    "test = create_torch_nasa_spectrograms(experiments_data, experiment_files, name=\"test\", startfile = \"2003.11.25.10.57.32\", endfile= \"2003.11.25.23.39.56\", bearing=3, experiment=\"1\", save=False, plot=True)\n",
    "\n",
    "\n",
    "#random index of training set\n",
    "tridx = np.random.randint(0, len(train))\n",
    "teidx = np.random.randint(0, len(test))\n",
    "\n",
    "plt.imshow(train[tridx], vmax=1, vmin=0)\n",
    "plt.figure()\n",
    "plt.imshow(test[teidx], vmax=1, vmin=0)\n",
    "#histograms\n",
    "\n",
    "plt.figure()\n",
    "plt.hist(train[tridx].flatten(), bins=100)\n",
    "plt.xlim(0, 1)\n",
    "plt.figure()\n",
    "plt.hist(test[teidx].flatten(), bins=100)\n",
    "plt.xlim(0, 1)\n",
    "plt.show()\n",
    "\n"
   ]
  },
  {
   "cell_type": "code",
   "execution_count": 11,
   "metadata": {},
   "outputs": [
    {
     "name": "stdout",
     "output_type": "stream",
     "text": [
      "training set stats\n",
      "max: 1.4672838, min: 2.2917402e-05, mean: 0.23337433, std: 0.14315899\n"
     ]
    },
    {
     "data": {
      "text/plain": [
       "(array([4.92000e+04, 1.44405e+05, 2.34170e+05, 3.18020e+05, 3.99060e+05,\n",
       "        4.63660e+05, 5.22015e+05, 5.67860e+05, 5.99870e+05, 6.18535e+05,\n",
       "        6.28300e+05, 6.30380e+05, 6.16970e+05, 6.02770e+05, 5.78535e+05,\n",
       "        5.48865e+05, 5.16895e+05, 4.77655e+05, 4.44405e+05, 4.12015e+05,\n",
       "        3.74470e+05, 3.41365e+05, 3.05755e+05, 2.74870e+05, 2.47655e+05,\n",
       "        2.21050e+05, 1.97655e+05, 1.74895e+05, 1.55480e+05, 1.39160e+05,\n",
       "        1.22300e+05, 1.09425e+05, 9.62200e+04, 8.60250e+04, 7.56050e+04,\n",
       "        6.69500e+04, 6.07800e+04, 5.31650e+04, 4.72700e+04, 4.26100e+04,\n",
       "        3.65050e+04, 3.28450e+04, 3.04550e+04, 2.60200e+04, 2.39300e+04,\n",
       "        2.20600e+04, 1.94000e+04, 1.68150e+04, 1.52800e+04, 1.30300e+04,\n",
       "        1.20450e+04, 1.07000e+04, 9.09500e+03, 7.87000e+03, 7.52000e+03,\n",
       "        6.41500e+03, 5.88000e+03, 5.24000e+03, 4.41500e+03, 3.95500e+03,\n",
       "        3.33000e+03, 2.92000e+03, 2.74500e+03, 2.07500e+03, 1.66000e+03,\n",
       "        1.75500e+03, 1.46500e+03, 1.10500e+03, 1.10500e+03, 9.10000e+02,\n",
       "        8.65000e+02, 5.90000e+02, 6.30000e+02, 4.80000e+02, 3.55000e+02,\n",
       "        4.20000e+02, 3.00000e+02, 2.50000e+02, 2.15000e+02, 7.50000e+01,\n",
       "        1.55000e+02, 1.15000e+02, 1.35000e+02, 1.10000e+02, 9.00000e+01,\n",
       "        8.00000e+01, 8.00000e+01, 5.00000e+01, 2.00000e+01, 1.00000e+01,\n",
       "        2.00000e+01, 2.00000e+01, 1.50000e+01, 1.00000e+01, 2.50000e+01,\n",
       "        1.50000e+01, 2.00000e+01, 0.00000e+00, 0.00000e+00, 1.50000e+01]),\n",
       " array([2.29174020e-05, 1.46955270e-02, 2.93681361e-02, 4.40407470e-02,\n",
       "        5.87133542e-02, 7.33859614e-02, 8.80585760e-02, 1.02731183e-01,\n",
       "        1.17403790e-01, 1.32076398e-01, 1.46749005e-01, 1.61421627e-01,\n",
       "        1.76094234e-01, 1.90766841e-01, 2.05439448e-01, 2.20112056e-01,\n",
       "        2.34784663e-01, 2.49457270e-01, 2.64129877e-01, 2.78802484e-01,\n",
       "        2.93475091e-01, 3.08147699e-01, 3.22820336e-01, 3.37492943e-01,\n",
       "        3.52165550e-01, 3.66838157e-01, 3.81510764e-01, 3.96183372e-01,\n",
       "        4.10855979e-01, 4.25528586e-01, 4.40201193e-01, 4.54873800e-01,\n",
       "        4.69546407e-01, 4.84219015e-01, 4.98891622e-01, 5.13564229e-01,\n",
       "        5.28236866e-01, 5.42909443e-01, 5.57582080e-01, 5.72254658e-01,\n",
       "        5.86927295e-01, 6.01599872e-01, 6.16272509e-01, 6.30945086e-01,\n",
       "        6.45617723e-01, 6.60290360e-01, 6.74962938e-01, 6.89635575e-01,\n",
       "        7.04308152e-01, 7.18980789e-01, 7.33653367e-01, 7.48326004e-01,\n",
       "        7.62998581e-01, 7.77671218e-01, 7.92343795e-01, 8.07016432e-01,\n",
       "        8.21689010e-01, 8.36361647e-01, 8.51034284e-01, 8.65706861e-01,\n",
       "        8.80379498e-01, 8.95052075e-01, 9.09724712e-01, 9.24397290e-01,\n",
       "        9.39069927e-01, 9.53742504e-01, 9.68415141e-01, 9.83087718e-01,\n",
       "        9.97760355e-01, 1.01243293e+00, 1.02710557e+00, 1.04177821e+00,\n",
       "        1.05645084e+00, 1.07112336e+00, 1.08579600e+00, 1.10046864e+00,\n",
       "        1.11514127e+00, 1.12981379e+00, 1.14448643e+00, 1.15915906e+00,\n",
       "        1.17383170e+00, 1.18850422e+00, 1.20317686e+00, 1.21784949e+00,\n",
       "        1.23252213e+00, 1.24719465e+00, 1.26186728e+00, 1.27653992e+00,\n",
       "        1.29121256e+00, 1.30588520e+00, 1.32055771e+00, 1.33523035e+00,\n",
       "        1.34990299e+00, 1.36457562e+00, 1.37924814e+00, 1.39392078e+00,\n",
       "        1.40859342e+00, 1.42326605e+00, 1.43793857e+00, 1.45261121e+00,\n",
       "        1.46728384e+00]),\n",
       " <BarContainer object of 100 artists>)"
      ]
     },
     "execution_count": 11,
     "metadata": {},
     "output_type": "execute_result"
    },
    {
     "data": {
      "image/png": "[encoded data removed]",
      "text/plain": [
       "<Figure size 640x480 with 1 Axes>"
      ]
     },
     "metadata": {},
     "output_type": "display_data"
    }
   ],
   "source": [
    "#training set stats\n",
    "print(\"training set stats\")\n",
    "print(\"max: %s, min: %s, mean: %s, std: %s\" % (train.max(), train.min(), train.mean(), train.std()))\n",
    "plt.figure()\n",
    "plt.hist(train.flatten(), bins=100)"
   ]
  },
  {
   "cell_type": "code",
   "execution_count": 17,
   "metadata": {},
   "outputs": [],
   "source": [
    "#save to json\n",
    "import json\n",
    "json.dump(experiment_files, open(\"experiment_files.json\", \"w\"))"
   ]
  },
  {
   "cell_type": "code",
   "execution_count": 11,
   "metadata": {},
   "outputs": [
    {
     "name": "stdout",
     "output_type": "stream",
     "text": [
      "startfile: 2003.11.01.21.51.44\n",
      "endfile: 2003.11.22.09.16.56\n",
      "all_training_sample_spectrograms.shape: (5160, 50, 50)\n",
      "all_training_labels.shape: (5160,)\n",
      "we have 5160 normal training samples of 50 x 50 spectrograms\n",
      "1\n",
      "1st_test.rar\n",
      "2\n",
      "2nd_test.rar\n",
      "3\n",
      "3rd_test.rar\n",
      "exp1_b3_ch5_all_data.txt\n",
      "exp1_b3_ch5_first100k.txt\n",
      "exp1_b3_ch5_last100k.txt\n",
      "ims_bearings_train_exp1_b3_input_windows_from_averaging_30_windows.npy\n",
      "ims_bearings_train_exp1_b3_labels.pt\n",
      "ims_bearings_train_exp1_b3_spectrograms.pt\n",
      "input_windows_from_averaging_30_windows.npy\n",
      "Readme Document for IMS Bearing Data.pdf\n",
      "startfile: 2003.11.22.09.26.56\n",
      "endfile: 2003.11.25.23.39.56\n",
      "all_training_sample_spectrograms.shape: (1460, 50, 50)\n",
      "all_training_labels.shape: (1460,)\n",
      "we have 1460 normal training samples of 50 x 50 spectrograms\n",
      "1\n",
      "1st_test.rar\n",
      "2\n",
      "2nd_test.rar\n",
      "3\n",
      "3rd_test.rar\n",
      "exp1_b3_ch5_all_data.txt\n",
      "exp1_b3_ch5_first100k.txt\n",
      "exp1_b3_ch5_last100k.txt\n",
      "ims_bearings_test_exp1_b3_input_windows_from_averaging_30_windows.npy\n",
      "ims_bearings_test_exp1_b3_labels.pt\n",
      "ims_bearings_test_exp1_b3_spectrograms.pt\n",
      "ims_bearings_train_exp1_b3_input_windows_from_averaging_30_windows.npy\n",
      "ims_bearings_train_exp1_b3_labels.pt\n",
      "ims_bearings_train_exp1_b3_spectrograms.pt\n",
      "input_windows_from_averaging_30_windows.npy\n",
      "Readme Document for IMS Bearing Data.pdf\n"
     ]
    }
   ],
   "source": [
    "train = create_torch_nasa_spectrograms(experiments_data, experiment_files, name=\"train\", startfile = \"2003.11.01.21.51.44\", endfile= \"2003.11.22.09.16.56\", bearing=3, experiment=\"1\", save=True, plot=False) #discard early data\n",
    "test = create_torch_nasa_spectrograms(experiments_data, experiment_files, name=\"test\", startfile = \"2003.11.22.09.26.56\", endfile= \"2003.11.25.23.39.56\", bearing=3, experiment=\"1\", save=True, plot=False) #starts at suspect!"
   ]
  },
  {
   "cell_type": "code",
   "execution_count": 12,
   "metadata": {},
   "outputs": [
    {
     "name": "stdout",
     "output_type": "stream",
     "text": [
      "1.4672838 2.2917402e-05 0.23337433 0.020494496\n",
      "6.3869233 0.00013786284 0.29650885 0.042972848\n"
     ]
    },
    {
     "data": {
      "image/png": "[encoded data removed]",
      "text/plain": [
       "<Figure size 640x480 with 1 Axes>"
      ]
     },
     "metadata": {},
     "output_type": "display_data"
    },
    {
     "data": {
      "image/png": "[encoded data removed]",
      "text/plain": [
       "<Figure size 640x480 with 1 Axes>"
      ]
     },
     "metadata": {},
     "output_type": "display_data"
    }
   ],
   "source": [
    "print(train.max(), train.min(), train.mean(), train.var())\n",
    "print(test.max(), test.min(), test.mean(), test.var())\n",
    "\n",
    "#histogram of train\n",
    "plt.hist(train.flatten(), bins=100)\n",
    "plt.title(\"Histogram of train\")\n",
    "plt.show()\n",
    "\n",
    "\n",
    "#histogram of test\n",
    "plt.hist(test.flatten(), bins=100)\n",
    "plt.title(\"Histogram of test\")\n",
    "plt.show()"
   ]
  },
  {
   "cell_type": "markdown",
   "metadata": {},
   "source": [
    "This is the entire timeseries, so we can use it for microcontroller testing "
   ]
  },
  {
   "cell_type": "code",
   "execution_count": 21,
   "metadata": {},
   "outputs": [
    {
     "name": "stdout",
     "output_type": "stream",
     "text": [
      "startfile: 2003.11.01.21.51.44\n",
      "endfile: 2003.11.25.23.39.56\n",
      "files: 1656\n",
      "all_training_sample_spectrograms.shape: (6624, 50, 50)\n",
      "all_training_labels.shape: (6624,)\n",
      "we have 6624 normal training samples of 50 x 50 spectrograms\n",
      "1\n",
      "1st_test.rar\n",
      "2\n",
      "2nd_test.rar\n",
      "3\n",
      "3rd_test.rar\n",
      "exp1_b3_ch5_all_data.txt\n",
      "exp1_b3_ch5_first100k.txt\n",
      "exp1_b3_ch5_last100k.txt\n",
      "ims_bearings_all_exp1_b3_input_windows_from_averaging_30_windows.npy\n",
      "ims_bearings_all_exp1_b3_labels.pt\n",
      "ims_bearings_all_exp1_b3_spectrograms.pt\n",
      "ims_bearings_test_exp1_b3_input_windows_from_averaging_30_windows.npy\n",
      "ims_bearings_test_exp1_b3_labels.pt\n",
      "ims_bearings_test_exp1_b3_spectrograms.pt\n",
      "ims_bearings_train_exp1_b3_input_windows_from_averaging_30_windows.npy\n",
      "ims_bearings_train_exp1_b3_labels.pt\n",
      "ims_bearings_train_exp1_b3_spectrograms.pt\n",
      "input_windows_from_averaging_30_windows.npy\n",
      "Readme Document for IMS Bearing Data.pdf\n",
      "files: 984\n",
      "all_training_sample_spectrograms.shape: (3936, 50, 50)\n",
      "all_training_labels.shape: (3936,)\n",
      "we have 3936 normal training samples of 50 x 50 spectrograms\n",
      "1\n",
      "1st_test.rar\n",
      "2\n",
      "2nd_test.rar\n",
      "3\n",
      "3rd_test.rar\n",
      "exp1_b3_ch5_all_data.txt\n",
      "exp1_b3_ch5_first100k.txt\n",
      "exp1_b3_ch5_last100k.txt\n",
      "ims_bearings_all_exp1_b3_input_windows_from_averaging_30_windows.npy\n",
      "ims_bearings_all_exp1_b3_labels.pt\n",
      "ims_bearings_all_exp1_b3_spectrograms.pt\n",
      "ims_bearings_all_exp2_b3_input_windows_from_averaging_30_windows.npy\n",
      "ims_bearings_all_exp2_b3_labels.pt\n",
      "ims_bearings_all_exp2_b3_spectrograms.pt\n",
      "ims_bearings_test_exp1_b3_input_windows_from_averaging_30_windows.npy\n",
      "ims_bearings_test_exp1_b3_labels.pt\n",
      "ims_bearings_test_exp1_b3_spectrograms.pt\n",
      "ims_bearings_train_exp1_b3_input_windows_from_averaging_30_windows.npy\n",
      "ims_bearings_train_exp1_b3_labels.pt\n",
      "ims_bearings_train_exp1_b3_spectrograms.pt\n",
      "input_windows_from_averaging_30_windows.npy\n",
      "Readme Document for IMS Bearing Data.pdf\n",
      "files: 6324\n",
      "all_training_sample_spectrograms.shape: (25296, 50, 50)\n",
      "all_training_labels.shape: (25296,)\n",
      "we have 25296 normal training samples of 50 x 50 spectrograms\n",
      "1\n",
      "1st_test.rar\n",
      "2\n",
      "2nd_test.rar\n",
      "3\n",
      "3rd_test.rar\n",
      "exp1_b3_ch5_all_data.txt\n",
      "exp1_b3_ch5_first100k.txt\n",
      "exp1_b3_ch5_last100k.txt\n",
      "ims_bearings_all_exp1_b3_input_windows_from_averaging_30_windows.npy\n",
      "ims_bearings_all_exp1_b3_labels.pt\n",
      "ims_bearings_all_exp1_b3_spectrograms.pt\n",
      "ims_bearings_all_exp2_b3_input_windows_from_averaging_30_windows.npy\n",
      "ims_bearings_all_exp2_b3_labels.pt\n",
      "ims_bearings_all_exp2_b3_spectrograms.pt\n",
      "ims_bearings_all_exp3_b3_input_windows_from_averaging_30_windows.npy\n",
      "ims_bearings_all_exp3_b3_labels.pt\n",
      "ims_bearings_all_exp3_b3_spectrograms.pt\n",
      "ims_bearings_test_exp1_b3_input_windows_from_averaging_30_windows.npy\n",
      "ims_bearings_test_exp1_b3_labels.pt\n",
      "ims_bearings_test_exp1_b3_spectrograms.pt\n",
      "ims_bearings_train_exp1_b3_input_windows_from_averaging_30_windows.npy\n",
      "ims_bearings_train_exp1_b3_labels.pt\n",
      "ims_bearings_train_exp1_b3_spectrograms.pt\n",
      "input_windows_from_averaging_30_windows.npy\n",
      "Readme Document for IMS Bearing Data.pdf\n"
     ]
    }
   ],
   "source": [
    "all = create_torch_nasa_spectrograms(experiments_data, experiment_files, name=\"all\", startfile = \"2003.11.01.21.51.44\", endfile= \"2003.11.25.23.39.56\", bearing=3, experiment=\"1\", save=True, plot=False)\n",
    "all2 = create_torch_nasa_spectrograms(experiments_data, experiment_files, name=\"all\", startfile = None, endfile= None, bearing=3, experiment=\"2\", save=True, plot=False)\n",
    "all3 = create_torch_nasa_spectrograms(experiments_data, experiment_files, name=\"all\", startfile = None , endfile= None, bearing=3, experiment=\"3\", save=True, plot=False)"
   ]
  }
 ],
 "metadata": {
  "kernelspec": {
   "display_name": "ai8x-training",
   "language": "python",
   "name": "python3"
  },
  "language_info": {
   "codemirror_mode": {
    "name": "ipython",
    "version": 3
   },
   "file_extension": ".py",
   "mimetype": "text/x-python",
   "name": "python",
   "nbconvert_exporter": "python",
   "pygments_lexer": "ipython3",
   "version": "3.8.18"
  }
 },
 "nbformat": 4,
 "nbformat_minor": 2
}
